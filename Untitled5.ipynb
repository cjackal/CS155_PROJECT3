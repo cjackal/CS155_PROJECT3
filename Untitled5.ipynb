{
 "cells": [
  {
   "cell_type": "code",
   "execution_count": 1,
   "metadata": {},
   "outputs": [
    {
     "name": "stderr",
     "output_type": "stream",
     "text": [
      "Using TensorFlow backend.\n"
     ]
    },
    {
     "ename": "TypeError",
     "evalue": "object of type 'generator' has no len()",
     "output_type": "error",
     "traceback": [
      "\u001b[1;31m---------------------------------------------------------------------------\u001b[0m",
      "\u001b[1;31mTypeError\u001b[0m                                 Traceback (most recent call last)",
      "\u001b[1;32m<ipython-input-1-4c6fe265f6ee>\u001b[0m in \u001b[0;36m<module>\u001b[1;34m\u001b[0m\n\u001b[0;32m     11\u001b[0m     \u001b[0mtest2\u001b[0m \u001b[1;33m=\u001b[0m \u001b[0mLSTM_word\u001b[0m\u001b[1;33m(\u001b[0m\u001b[1;33m)\u001b[0m\u001b[1;33m\u001b[0m\u001b[1;33m\u001b[0m\u001b[0m\n\u001b[0;32m     12\u001b[0m     \u001b[1;31m#test2.SonnetLoader('Spenser_v2')\u001b[0m\u001b[1;33m\u001b[0m\u001b[1;33m\u001b[0m\u001b[1;33m\u001b[0m\u001b[0m\n\u001b[1;32m---> 13\u001b[1;33m     \u001b[0mtest2\u001b[0m\u001b[1;33m.\u001b[0m\u001b[0mSonnetLoader\u001b[0m\u001b[1;33m(\u001b[0m\u001b[1;34m'shakespeare'\u001b[0m\u001b[1;33m)\u001b[0m\u001b[1;33m\u001b[0m\u001b[1;33m\u001b[0m\u001b[0m\n\u001b[0m\u001b[0;32m     14\u001b[0m     \u001b[0mtest2\u001b[0m\u001b[1;33m.\u001b[0m\u001b[0mgetTrainSeq\u001b[0m\u001b[1;33m(\u001b[0m\u001b[1;33m)\u001b[0m\u001b[1;33m\u001b[0m\u001b[1;33m\u001b[0m\u001b[0m\n\u001b[0;32m     15\u001b[0m     \u001b[0mtest2\u001b[0m\u001b[1;33m.\u001b[0m\u001b[0mgetMapping\u001b[0m\u001b[1;33m(\u001b[0m\u001b[1;33m)\u001b[0m\u001b[1;33m\u001b[0m\u001b[1;33m\u001b[0m\u001b[0m\n",
      "\u001b[1;32m~\\OneDrive - California Institute of Technology\\class\\Machine Learning and Data Mining\\Project 3\\git\\CS155_PROJECT3\\LSTMforSonnet.py\u001b[0m in \u001b[0;36mSonnetLoader\u001b[1;34m(self, path)\u001b[0m\n\u001b[0;32m    178\u001b[0m \u001b[1;31m#        else:\u001b[0m\u001b[1;33m\u001b[0m\u001b[1;33m\u001b[0m\u001b[1;33m\u001b[0m\u001b[0m\n\u001b[0;32m    179\u001b[0m \u001b[1;31m#            self.sonnets = Sonnets(a)\u001b[0m\u001b[1;33m\u001b[0m\u001b[1;33m\u001b[0m\u001b[1;33m\u001b[0m\u001b[0m\n\u001b[1;32m--> 180\u001b[1;33m         \u001b[0mself\u001b[0m\u001b[1;33m.\u001b[0m\u001b[0msonnets\u001b[0m \u001b[1;33m=\u001b[0m \u001b[0mSonnets\u001b[0m\u001b[1;33m(\u001b[0m\u001b[0ma\u001b[0m\u001b[1;33m)\u001b[0m\u001b[1;33m\u001b[0m\u001b[1;33m\u001b[0m\u001b[0m\n\u001b[0m\u001b[0;32m    181\u001b[0m \u001b[1;33m\u001b[0m\u001b[0m\n\u001b[0;32m    182\u001b[0m     \u001b[1;32mdef\u001b[0m \u001b[0mgetTrainSeq\u001b[0m\u001b[1;33m(\u001b[0m\u001b[0mself\u001b[0m\u001b[1;33m)\u001b[0m\u001b[1;33m:\u001b[0m\u001b[1;33m\u001b[0m\u001b[1;33m\u001b[0m\u001b[0m\n",
      "\u001b[1;32m~\\OneDrive - California Institute of Technology\\class\\Machine Learning and Data Mining\\Project 3\\git\\CS155_PROJECT3\\Sonnet.py\u001b[0m in \u001b[0;36m__init__\u001b[1;34m(self, sonnetList)\u001b[0m\n\u001b[0;32m    377\u001b[0m         \u001b[0mself\u001b[0m\u001b[1;33m.\u001b[0m\u001b[0mRhymePair\u001b[0m \u001b[1;33m=\u001b[0m \u001b[1;33m[\u001b[0m\u001b[1;33m]\u001b[0m\u001b[1;33m\u001b[0m\u001b[1;33m\u001b[0m\u001b[0m\n\u001b[0;32m    378\u001b[0m         \u001b[1;32mfor\u001b[0m \u001b[0msonnet\u001b[0m \u001b[1;32min\u001b[0m \u001b[0mself\u001b[0m\u001b[1;33m.\u001b[0m\u001b[0msonnetList\u001b[0m\u001b[1;33m:\u001b[0m\u001b[1;33m\u001b[0m\u001b[1;33m\u001b[0m\u001b[0m\n\u001b[1;32m--> 379\u001b[1;33m             \u001b[0mself\u001b[0m\u001b[1;33m.\u001b[0m\u001b[0mRhymePair\u001b[0m\u001b[1;33m.\u001b[0m\u001b[0mappend\u001b[0m\u001b[1;33m(\u001b[0m\u001b[0msonnet\u001b[0m\u001b[1;33m.\u001b[0m\u001b[0mRhymePair\u001b[0m\u001b[1;33m(\u001b[0m\u001b[1;33m)\u001b[0m\u001b[1;33m)\u001b[0m\u001b[1;33m\u001b[0m\u001b[1;33m\u001b[0m\u001b[0m\n\u001b[0m",
      "\u001b[1;32m~\\OneDrive - California Institute of Technology\\class\\Machine Learning and Data Mining\\Project 3\\git\\CS155_PROJECT3\\Sonnet.py\u001b[0m in \u001b[0;36mRhymePair\u001b[1;34m(self)\u001b[0m\n\u001b[0;32m    351\u001b[0m         \u001b[1;32mfor\u001b[0m \u001b[0mcouple\u001b[0m \u001b[1;32min\u001b[0m \u001b[0mparing\u001b[0m\u001b[1;33m:\u001b[0m\u001b[1;33m\u001b[0m\u001b[1;33m\u001b[0m\u001b[0m\n\u001b[0;32m    352\u001b[0m             \u001b[0mi\u001b[0m\u001b[1;33m,\u001b[0m \u001b[0mj\u001b[0m \u001b[1;33m=\u001b[0m \u001b[0mcouple\u001b[0m\u001b[1;33m\u001b[0m\u001b[1;33m\u001b[0m\u001b[0m\n\u001b[1;32m--> 353\u001b[1;33m             \u001b[1;32mif\u001b[0m \u001b[0mj\u001b[0m\u001b[1;33m<\u001b[0m\u001b[0mlen\u001b[0m\u001b[1;33m(\u001b[0m\u001b[0mself\u001b[0m\u001b[1;33m.\u001b[0m\u001b[0mstringform\u001b[0m\u001b[1;33m)\u001b[0m\u001b[1;33m:\u001b[0m\u001b[1;33m\u001b[0m\u001b[1;33m\u001b[0m\u001b[0m\n\u001b[0m\u001b[0;32m    354\u001b[0m                 \u001b[0mpair\u001b[0m\u001b[1;33m.\u001b[0m\u001b[0mappend\u001b[0m\u001b[1;33m(\u001b[0m\u001b[1;33m{\u001b[0m\u001b[0mself\u001b[0m\u001b[1;33m.\u001b[0m\u001b[0mstringform\u001b[0m\u001b[1;33m[\u001b[0m\u001b[0mi\u001b[0m\u001b[1;33m]\u001b[0m\u001b[1;33m[\u001b[0m\u001b[1;33m-\u001b[0m\u001b[1;36m1\u001b[0m\u001b[1;33m]\u001b[0m\u001b[1;33m,\u001b[0m \u001b[0mself\u001b[0m\u001b[1;33m.\u001b[0m\u001b[0mstringform\u001b[0m\u001b[1;33m[\u001b[0m\u001b[0mj\u001b[0m\u001b[1;33m]\u001b[0m\u001b[1;33m[\u001b[0m\u001b[1;33m-\u001b[0m\u001b[1;36m1\u001b[0m\u001b[1;33m]\u001b[0m\u001b[1;33m}\u001b[0m\u001b[1;33m)\u001b[0m\u001b[1;33m\u001b[0m\u001b[1;33m\u001b[0m\u001b[0m\n\u001b[0;32m    355\u001b[0m         \u001b[1;32mreturn\u001b[0m \u001b[0mpair\u001b[0m\u001b[1;33m\u001b[0m\u001b[1;33m\u001b[0m\u001b[0m\n",
      "\u001b[1;31mTypeError\u001b[0m: object of type 'generator' has no len()"
     ]
    }
   ],
   "source": [
    "from LSTMforSonnet import LSTM_char, LSTM_word\n",
    "from keras.models import Sequential\n",
    "from keras.layers import Dense\n",
    "\n",
    "embedSize = [5, 10, 25]\n",
    "for dim in embedSize:\n",
    "#     modelName = \"model_Spenser_withWordEmbedding %d.h5\" % dim\n",
    "#     mappingName = \"model_Spenser_mapping_withWordEmbedding %d.pk1\" % dim\n",
    "    modelName = \"model_unit400_withWordEmbedding %d.h5\" % dim\n",
    "    mappingName = \"model_unit400_mapping_withWordEmbedding %d.pk1\" % dim\n",
    "    test2 = LSTM_word()\n",
    "    #test2.SonnetLoader('Spenser_v2')\n",
    "    test2.SonnetLoader('shakespeare')\n",
    "    test2.getTrainSeq()\n",
    "    test2.getMapping()\n",
    "    test2.LoadModel(modelName = modelName, mappingName = mappingName)\n",
    "    [perplexity, accuracy] = test2.perplexity_train(useWordEmbedding=True)\n",
    "    print(perplexity)\n",
    "    print(accuracy)"
   ]
  },
  {
   "cell_type": "code",
   "execution_count": null,
   "metadata": {},
   "outputs": [],
   "source": [
    "## Look into perplexity\n",
    "from LSTMforSonnet import LSTM_char, LSTM_word\n",
    "from keras.models import Sequential\n",
    "from keras.layers import Dense\n",
    "import numpy as np\n",
    "\n",
    "useWordEmbedding = True\n",
    "embedSize = [5, 10, 25, 50, 100, 200]\n",
    "numUnit = [200, 300, 400]\n",
    "data = 'shakespeare'\n",
    "\n",
    "if data == 'shakespeare':\n",
    "    fileName_data = ''\n",
    "elif data == 'spenser':\n",
    "    fileName_data = 'Spenser_'\n",
    "elif data == 'both':\n",
    "    fileName_data = 'Both_'\n",
    "perplexity = np.zeros((len(numUnit), len(embedSize)))\n",
    "accuracy = np.zeros((len(numUnit), len(embedSize)))\n",
    "\n",
    "for i, dim in enumerate(embedSize):\n",
    "    for j, un in enumerate(numUnit):\n",
    "        if useWordEmbedding:\n",
    "            modelName = \"model_%sunit%d_withWordEmbedding %d.h5\" % (fileName_data, un, dim)\n",
    "            mappingName = \"model_%sunit%d_mapping_withWordEmbedding %d.pk1\" % (fileName_data, un, dim)\n",
    "        test2 = LSTM_word()\n",
    "        if data == 'shakespeare':\n",
    "            test2.SonnetLoader('shakespeare')\n",
    "        elif data == 'spenser':\n",
    "            test2.SonnetLoader('Spenser_v2')\n",
    "        elif data == 'both':\n",
    "            test2.SonnetLoader(['shakespeare', 'Spenser_v2'])\n",
    "        \n",
    "        test2.getTrainSeq()\n",
    "        test2.getMapping()\n",
    "        test2.LoadModel(modelName = modelName, mappingName = mappingName)\n",
    "        [perplexity[j, i], accuracy[j, i]] = test2.perplexity_train(useWordEmbedding=True)\n",
    "        print(\"unit \", un, \"embedding dimension\", dim)\n",
    "        print(perplexity[j, i])\n",
    "        print(accuracy[j, i])"
   ]
  }
 ],
 "metadata": {
  "kernelspec": {
   "display_name": "Python 3",
   "language": "python",
   "name": "python3"
  },
  "language_info": {
   "codemirror_mode": {
    "name": "ipython",
    "version": 3
   },
   "file_extension": ".py",
   "mimetype": "text/x-python",
   "name": "python",
   "nbconvert_exporter": "python",
   "pygments_lexer": "ipython3",
   "version": "3.7.4"
  }
 },
 "nbformat": 4,
 "nbformat_minor": 2
}
