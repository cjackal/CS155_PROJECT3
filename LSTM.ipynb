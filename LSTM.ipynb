{
 "cells": [
  {
   "cell_type": "code",
   "execution_count": null,
   "metadata": {},
   "outputs": [],
   "source": [
    "# for training - can be skipped, if you use saved files\n",
    "from LSTMforSonnet import LSTM_char\n",
    "from keras.models import Sequential\n",
    "from keras.layers import Dense\n",
    "\n",
    "test = LSTM_char()\n",
    "test.SonnetLoader('shakespeare')\n",
    "test.getTrainSeq()\n",
    "test.getMapping()\n",
    "test.Train()"
   ]
  },
  {
   "cell_type": "code",
   "execution_count": null,
   "metadata": {},
   "outputs": [],
   "source": [
    "# make predictions after loading trained model from saved files\n",
    "from LSTMforSonnet import LSTM_char\n",
    "from keras.models import Sequential\n",
    "from keras.layers import Dense\n",
    "\n",
    "test = LSTM_char()\n",
    "test.LoadModel()\n",
    "tempList = [1.5, 0.75, 0.25]\n",
    "predicted = [test.Predict(\"shall i compare thee to a summer's day?\\n\", outputText_len=300, temperature = x) for x in tempList]\n",
    "for i, x in enumerate(predicted):\n",
    "    print('with temperature ', tempList[i], '\\n', x)"
   ]
  }
 ],
 "metadata": {
  "kernelspec": {
   "display_name": "Python 3",
   "language": "python",
   "name": "python3"
  },
  "language_info": {
   "codemirror_mode": {
    "name": "ipython",
    "version": 3
   },
   "file_extension": ".py",
   "mimetype": "text/x-python",
   "name": "python",
   "nbconvert_exporter": "python",
   "pygments_lexer": "ipython3",
   "version": "3.7.4"
  }
 },
 "nbformat": 4,
 "nbformat_minor": 2
}
